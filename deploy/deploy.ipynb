{
 "cells": [
  {
   "cell_type": "code",
   "execution_count": null,
   "metadata": {},
   "outputs": [],
   "source": [
    "# Melakukan Instalasi Packages yang Dibutuhkan\n",
    "%pip install flask --quiet\n",
    "%pip install flask-ngrok --quiet\n",
    "print(\"Completed!\")"
   ]
  }
 ],
 "metadata": {
  "language_info": {
   "name": "python"
  }
 },
 "nbformat": 4,
 "nbformat_minor": 2
}
