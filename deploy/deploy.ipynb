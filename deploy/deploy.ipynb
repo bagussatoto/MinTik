{
 "cells": [
  {
   "cell_type": "markdown",
   "metadata": {},
   "source": [
    " Melakukan Instalasi Packages yang Dibutuhkan\n"
   ]
  },
  {
   "cell_type": "code",
   "execution_count": null,
   "metadata": {},
   "outputs": [],
   "source": [
    "\n",
    "%pip install flask --quiet\n",
    "%pip install flask-ngrok --quiet\n",
    "print(\"Completed!\")"
   ]
  },
  {
   "cell_type": "markdown",
   "metadata": {},
   "source": [
    "Download \"ngrox\" "
   ]
  },
  {
   "cell_type": "code",
   "execution_count": 8,
   "metadata": {},
   "outputs": [
    {
     "name": "stdout",
     "output_type": "stream",
     "text": [
      "--2023-11-26 04:06:32--  https://bin.equinox.io/c/4VmDzA7iaHb/ngrok-stable-linux-amd64.tgz\n",
      "Resolving bin.equinox.io (bin.equinox.io)... 54.161.241.46, 54.237.133.81, 18.205.222.128, ...\n",
      "Connecting to bin.equinox.io (bin.equinox.io)|54.161.241.46|:443... connected.\n",
      "HTTP request sent, awaiting response... 200 OK\n",
      "Length: 13856790 (13M) [application/octet-stream]\n",
      "Saving to: ‘ngrok-stable-linux-amd64.tgz.1’\n",
      "\n",
      "ngrok-stable-linux- 100%[===================>]  13.21M  4.66MB/s    in 2.8s    \n",
      "\n",
      "2023-11-26 04:06:36 (4.66 MB/s) - ‘ngrok-stable-linux-amd64.tgz.1’ saved [13856790/13856790]\n",
      "\n"
     ]
    }
   ],
   "source": [
    "\n",
    "!wget https://bin.equinox.io/c/4VmDzA7iaHb/ngrok-stable-linux-amd64.tgz\n"
   ]
  },
  {
   "cell_type": "markdown",
   "metadata": {},
   "source": [
    "Setting Token"
   ]
  },
  {
   "cell_type": "code",
   "execution_count": 9,
   "metadata": {},
   "outputs": [
    {
     "name": "stdout",
     "output_type": "stream",
     "text": [
      "/bin/bash: ./ngrok: Permission denied\n"
     ]
    }
   ],
   "source": [
    "!./ngrok authtoken  ak_2YhAfQh7VdxzUqqRYfAasKST4Po"
   ]
  },
  {
   "cell_type": "markdown",
   "metadata": {},
   "source": [
    "Clone Repository dari Github"
   ]
  },
  {
   "cell_type": "code",
   "execution_count": 10,
   "metadata": {},
   "outputs": [
    {
     "name": "stdout",
     "output_type": "stream",
     "text": [
      "Cloning into 'MinTik'...\n",
      "remote: Enumerating objects: 380, done.\u001b[K\n",
      "remote: Counting objects: 100% (336/336), done.\u001b[K\n",
      "remote: Compressing objects: 100% (256/256), done.\u001b[K\n",
      "remote: Total 380 (delta 176), reused 162 (delta 71), pack-reused 44\u001b[K\n",
      "Receiving objects: 100% (380/380), 23.94 MiB | 6.70 MiB/s, done.\n",
      "Resolving deltas: 100% (176/176), done.\n"
     ]
    }
   ],
   "source": [
    "!git clone https://github.com/bagussatoto/MinTik.git"
   ]
  },
  {
   "cell_type": "code",
   "execution_count": 13,
   "metadata": {},
   "outputs": [
    {
     "data": {
      "text/plain": [
       "'/workspaces/MinTik'"
      ]
     },
     "execution_count": 13,
     "metadata": {},
     "output_type": "execute_result"
    }
   ],
   "source": [
    "pwd"
   ]
  },
  {
   "cell_type": "markdown",
   "metadata": {},
   "source": [
    "Menjalankan Aplikasi "
   ]
  },
  {
   "cell_type": "code",
   "execution_count": 14,
   "metadata": {},
   "outputs": [
    {
     "name": "stdout",
     "output_type": "stream",
     "text": [
      "Traceback (most recent call last):\n",
      "  File \"/workspaces/MinTik/app.py\", line 7, in <module>\n",
      "    import nltk\n",
      "ModuleNotFoundError: No module named 'nltk'\n"
     ]
    }
   ],
   "source": [
    "!python3 app.py"
   ]
  }
 ],
 "metadata": {
  "kernelspec": {
   "display_name": "Python 3 (ipykernel)",
   "language": "python",
   "name": "python3"
  },
  "language_info": {
   "codemirror_mode": {
    "name": "ipython",
    "version": 3
   },
   "file_extension": ".py",
   "mimetype": "text/x-python",
   "name": "python",
   "nbconvert_exporter": "python",
   "pygments_lexer": "ipython3",
   "version": "3.10.8"
  }
 },
 "nbformat": 4,
 "nbformat_minor": 2
}
