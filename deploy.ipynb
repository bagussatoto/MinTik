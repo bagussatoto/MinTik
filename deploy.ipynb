{
  "cells": [
    {
      "cell_type": "code",
      "execution_count": null,
      "metadata": {
        "colab": {
          "base_uri": "https://localhost:8080/"
        },
        "id": "oKOPuoSNqpQ6",
        "outputId": "6b6a2df2-1d33-4d61-d396-87b6c95ab99c"
      },
      "outputs": [
        {
          "output_type": "stream",
          "name": "stdout",
          "text": [
            "Completed!\n"
          ]
        }
      ],
      "source": [
        "# Melakukan Instalasi Packages yang Dibutuhkan\n",
        "!pip install flask --quiet\n",
        "!pip install flask-ngrok --quiet\n",
        "print(\"Completed!\")"
      ]
    },
    {
      "cell_type": "code",
      "execution_count": null,
      "metadata": {
        "colab": {
          "base_uri": "https://localhost:8080/"
        },
        "id": "Tgh7OgSOsPia",
        "outputId": "f59c5e46-828f-4a67-8c7f-c1576e751863"
      },
      "outputs": [
        {
          "output_type": "stream",
          "name": "stdout",
          "text": [
            "--2023-05-28 15:43:16--  https://bin.equinox.io/c/4VmDzA7iaHb/ngrok-stable-linux-amd64.tgz\n",
            "Resolving bin.equinox.io (bin.equinox.io)... 54.161.241.46, 18.205.222.128, 54.237.133.81, ...\n",
            "Connecting to bin.equinox.io (bin.equinox.io)|54.161.241.46|:443... connected.\n",
            "HTTP request sent, awaiting response... 200 OK\n",
            "Length: 13856790 (13M) [application/octet-stream]\n",
            "Saving to: ‘ngrok-stable-linux-amd64.tgz’\n",
            "\n",
            "ngrok-stable-linux- 100%[===================>]  13.21M  59.0MB/s    in 0.2s    \n",
            "\n",
            "2023-05-28 15:43:17 (59.0 MB/s) - ‘ngrok-stable-linux-amd64.tgz’ saved [13856790/13856790]\n",
            "\n",
            "ngrok\n"
          ]
        }
      ],
      "source": [
        "# Download \"ngrox\" \n",
        "!wget https://bin.equinox.io/c/4VmDzA7iaHb/ngrok-stable-linux-amd64.tgz\n",
        "!tar -xvf /content/ngrok-stable-linux-amd64.tgz "
      ]
    },
    {
      "cell_type": "code",
      "execution_count": null,
      "metadata": {
        "colab": {
          "base_uri": "https://localhost:8080/"
        },
        "id": "dB467gFqseLS",
        "outputId": "d401f948-e42c-4780-8441-2ffe1d6e8a4b"
      },
      "outputs": [
        {
          "output_type": "stream",
          "name": "stdout",
          "text": [
            "Authtoken saved to configuration file: /root/.ngrok2/ngrok.yml\n"
          ]
        }
      ],
      "source": [
        "# Setting Token\n",
        "!./ngrok authtoken  # diganti dengan token Anda !"
      ]
    },
    {
      "cell_type": "code",
      "execution_count": null,
      "metadata": {
        "colab": {
          "base_uri": "https://localhost:8080/"
        },
        "outputId": "27e25e0c-82cf-4b54-b141-c1f5a975b60c",
        "id": "Ag6jqg56mnyN"
      },
      "outputs": [
        {
          "output_type": "stream",
          "name": "stdout",
          "text": [
            "Cloning into 'ChatbotMcd'...\n",
            "remote: Enumerating objects: 63, done.\u001b[K\n",
            "remote: Counting objects: 100% (63/63), done.\u001b[K\n",
            "remote: Compressing objects: 100% (62/62), done.\u001b[K\n",
            "remote: Total 63 (delta 9), reused 0 (delta 0), pack-reused 0\u001b[K\n",
            "Unpacking objects: 100% (63/63), 2.07 MiB | 8.83 MiB/s, done.\n"
          ]
        }
      ],
      "source": [
        "# Clone Repository dari Github\n",
        "!git clone https://github.com/zakyirhab/ChatbotMcd.git"
      ]
    },
    {
      "cell_type": "code",
      "execution_count": null,
      "metadata": {
        "colab": {
          "base_uri": "https://localhost:8080/"
        },
        "id": "k4UxSne_-Dd8",
        "outputId": "cd3e8578-e60f-4398-ca48-5d13bc44dc60"
      },
      "outputs": [
        {
          "output_type": "stream",
          "name": "stdout",
          "text": [
            "/content/ChatbotMcd\n"
          ]
        }
      ],
      "source": [
        "cd /content/ChatbotMcd"
      ]
    },
    {
      "cell_type": "code",
      "source": [
        "pwd"
      ],
      "metadata": {
        "colab": {
          "base_uri": "https://localhost:8080/",
          "height": 35
        },
        "id": "asmdXk0vx6Vl",
        "outputId": "a3d46e67-79a0-4097-c9d1-57e94a3f2140"
      },
      "execution_count": null,
      "outputs": [
        {
          "output_type": "execute_result",
          "data": {
            "text/plain": [
              "'/content/ChatbotMcd'"
            ],
            "application/vnd.google.colaboratory.intrinsic+json": {
              "type": "string"
            }
          },
          "metadata": {},
          "execution_count": 6
        }
      ]
    },
    {
      "cell_type": "code",
      "execution_count": null,
      "metadata": {
        "colab": {
          "base_uri": "https://localhost:8080/"
        },
        "id": "tjsHsYXjs0x2",
        "outputId": "d66ed02f-8b87-4245-b770-c29238952c07"
      },
      "outputs": [
        {
          "output_type": "stream",
          "name": "stdout",
          "text": [
            "[nltk_data] Downloading collection 'popular'\n",
            "[nltk_data]    | \n",
            "[nltk_data]    | Downloading package cmudict to /root/nltk_data...\n",
            "[nltk_data]    |   Unzipping corpora/cmudict.zip.\n",
            "[nltk_data]    | Downloading package gazetteers to /root/nltk_data...\n",
            "[nltk_data]    |   Unzipping corpora/gazetteers.zip.\n",
            "[nltk_data]    | Downloading package genesis to /root/nltk_data...\n",
            "[nltk_data]    |   Unzipping corpora/genesis.zip.\n",
            "[nltk_data]    | Downloading package gutenberg to /root/nltk_data...\n",
            "[nltk_data]    |   Unzipping corpora/gutenberg.zip.\n",
            "[nltk_data]    | Downloading package inaugural to /root/nltk_data...\n",
            "[nltk_data]    |   Unzipping corpora/inaugural.zip.\n",
            "[nltk_data]    | Downloading package movie_reviews to\n",
            "[nltk_data]    |     /root/nltk_data...\n",
            "[nltk_data]    |   Unzipping corpora/movie_reviews.zip.\n",
            "[nltk_data]    | Downloading package names to /root/nltk_data...\n",
            "[nltk_data]    |   Unzipping corpora/names.zip.\n",
            "[nltk_data]    | Downloading package shakespeare to /root/nltk_data...\n",
            "[nltk_data]    |   Unzipping corpora/shakespeare.zip.\n",
            "[nltk_data]    | Downloading package stopwords to /root/nltk_data...\n",
            "[nltk_data]    |   Unzipping corpora/stopwords.zip.\n",
            "[nltk_data]    | Downloading package treebank to /root/nltk_data...\n",
            "[nltk_data]    |   Unzipping corpora/treebank.zip.\n",
            "[nltk_data]    | Downloading package twitter_samples to\n",
            "[nltk_data]    |     /root/nltk_data...\n",
            "[nltk_data]    |   Unzipping corpora/twitter_samples.zip.\n",
            "[nltk_data]    | Downloading package omw to /root/nltk_data...\n",
            "[nltk_data]    | Downloading package omw-1.4 to /root/nltk_data...\n",
            "[nltk_data]    | Downloading package wordnet to /root/nltk_data...\n",
            "[nltk_data]    | Downloading package wordnet2021 to /root/nltk_data...\n",
            "[nltk_data]    | Downloading package wordnet31 to /root/nltk_data...\n",
            "[nltk_data]    | Downloading package wordnet_ic to /root/nltk_data...\n",
            "[nltk_data]    |   Unzipping corpora/wordnet_ic.zip.\n",
            "[nltk_data]    | Downloading package words to /root/nltk_data...\n",
            "[nltk_data]    |   Unzipping corpora/words.zip.\n",
            "[nltk_data]    | Downloading package maxent_ne_chunker to\n",
            "[nltk_data]    |     /root/nltk_data...\n",
            "[nltk_data]    |   Unzipping chunkers/maxent_ne_chunker.zip.\n",
            "[nltk_data]    | Downloading package punkt to /root/nltk_data...\n",
            "[nltk_data]    |   Unzipping tokenizers/punkt.zip.\n",
            "[nltk_data]    | Downloading package snowball_data to\n",
            "[nltk_data]    |     /root/nltk_data...\n",
            "[nltk_data]    | Downloading package averaged_perceptron_tagger to\n",
            "[nltk_data]    |     /root/nltk_data...\n",
            "[nltk_data]    |   Unzipping taggers/averaged_perceptron_tagger.zip.\n",
            "[nltk_data]    | \n",
            "[nltk_data]  Done downloading collection popular\n",
            "2023-05-28 15:43:27.718277: I tensorflow/core/platform/cpu_feature_guard.cc:182] This TensorFlow binary is optimized to use available CPU instructions in performance-critical operations.\n",
            "To enable the following instructions: AVX2 FMA, in other operations, rebuild TensorFlow with the appropriate compiler flags.\n",
            "2023-05-28 15:43:29.077517: W tensorflow/compiler/tf2tensorrt/utils/py_utils.cc:38] TF-TRT Warning: Could not find TensorRT\n",
            " * Serving Flask app 'app'\n",
            " * Debug mode: off\n",
            "\u001b[31m\u001b[1mWARNING: This is a development server. Do not use it in a production deployment. Use a production WSGI server instead.\u001b[0m\n",
            " * Running on http://127.0.0.1:5000\n",
            "\u001b[33mPress CTRL+C to quit\u001b[0m\n",
            " * Running on http://6bfd-35-243-169-78.ngrok-free.app\n",
            " * Traffic stats available on http://127.0.0.1:4040\n",
            "127.0.0.1 - - [28/May/2023 15:43:43] \"GET / HTTP/1.1\" 200 -\n",
            "127.0.0.1 - - [28/May/2023 15:43:44] \"\u001b[32mGET /static//css/bootstrap.min.css HTTP/1.1\u001b[0m\" 308 -\n",
            "127.0.0.1 - - [28/May/2023 15:43:44] \"\u001b[32mGET /static//js/jquery_3.6.0.min.js HTTP/1.1\u001b[0m\" 308 -\n",
            "127.0.0.1 - - [28/May/2023 15:43:44] \"\u001b[32mGET /static//css/client_side.css HTTP/1.1\u001b[0m\" 308 -\n",
            "127.0.0.1 - - [28/May/2023 15:43:44] \"GET /static/css/bootstrap.min.css HTTP/1.1\" 200 -\n",
            "127.0.0.1 - - [28/May/2023 15:43:45] \"GET /static/js/jquery_3.6.0.min.js HTTP/1.1\" 200 -\n",
            "127.0.0.1 - - [28/May/2023 15:43:45] \"GET /static/css/client_side.css HTTP/1.1\" 200 -\n",
            "127.0.0.1 - - [28/May/2023 15:43:46] \"\u001b[32mGET /static//js/bootstrap_3.4.1.min.js HTTP/1.1\u001b[0m\" 308 -\n",
            "127.0.0.1 - - [28/May/2023 15:43:46] \"GET /static/js/bootstrap_3.4.1.min.js HTTP/1.1\" 200 -\n",
            "127.0.0.1 - - [28/May/2023 15:43:47] \"\u001b[32mGET /static//images/MCD_LOGO.png HTTP/1.1\u001b[0m\" 308 -\n",
            "127.0.0.1 - - [28/May/2023 15:43:47] \"\u001b[32mGET /static//js/client_side.js HTTP/1.1\u001b[0m\" 308 -\n",
            "127.0.0.1 - - [28/May/2023 15:43:47] \"\u001b[32mGET /static//images/app-display.png HTTP/1.1\u001b[0m\" 308 -\n",
            "127.0.0.1 - - [28/May/2023 15:43:47] \"\u001b[32mGET /static//images/cumel1.png HTTP/1.1\u001b[0m\" 308 -\n",
            "127.0.0.1 - - [28/May/2023 15:43:47] \"\u001b[32mGET /static//images/zila.jpg HTTP/1.1\u001b[0m\" 308 -\n",
            "127.0.0.1 - - [28/May/2023 15:43:47] \"\u001b[32mGET /static//images/zaky.jpeg HTTP/1.1\u001b[0m\" 308 -\n",
            "127.0.0.1 - - [28/May/2023 15:43:47] \"\u001b[32mGET /static//images/risma.jpg HTTP/1.1\u001b[0m\" 308 -\n",
            "127.0.0.1 - - [28/May/2023 15:43:47] \"GET /static/fonts/lato_latin.woff2 HTTP/1.1\" 200 -\n",
            "127.0.0.1 - - [28/May/2023 15:43:47] \"GET /static/fonts/glyphicons-halflings-regular.woff2 HTTP/1.1\" 200 -\n",
            "127.0.0.1 - - [28/May/2023 15:43:47] \"GET /static/images/MCD_LOGO.png HTTP/1.1\" 200 -\n",
            "127.0.0.1 - - [28/May/2023 15:43:47] \"GET /static/js/client_side.js HTTP/1.1\" 200 -\n",
            "127.0.0.1 - - [28/May/2023 15:43:47] \"GET /static/images/cumel1.png HTTP/1.1\" 200 -\n",
            "127.0.0.1 - - [28/May/2023 15:43:47] \"GET /static/images/zaky.jpeg HTTP/1.1\" 200 -\n",
            "127.0.0.1 - - [28/May/2023 15:43:47] \"GET /static/images/risma.jpg HTTP/1.1\" 200 -\n",
            "127.0.0.1 - - [28/May/2023 15:43:47] \"GET /static/images/zila.jpg HTTP/1.1\" 200 -\n",
            "127.0.0.1 - - [28/May/2023 15:43:47] \"GET /static/images/app-display.png HTTP/1.1\" 200 -\n",
            "127.0.0.1 - - [28/May/2023 15:43:49] \"GET /static/favicon.ico HTTP/1.1\" 200 -\n",
            "127.0.0.1 - - [28/May/2023 15:43:52] \"GET /chatbot HTTP/1.1\" 200 -\n",
            "127.0.0.1 - - [28/May/2023 15:43:52] \"GET /static/styles/style.css HTTP/1.1\" 200 -\n",
            "127.0.0.1 - - [28/May/2023 15:44:00] \"\u001b[36mGET /static/styles/style.css HTTP/1.1\u001b[0m\" 304 -\n",
            "127.0.0.1 - - [28/May/2023 15:44:35] \"\u001b[36mGET /static/css/bootstrap.min.css HTTP/1.1\u001b[0m\" 304 -\n",
            "127.0.0.1 - - [28/May/2023 15:44:35] \"\u001b[36mGET /static/css/client_side.css HTTP/1.1\u001b[0m\" 304 -\n",
            "127.0.0.1 - - [28/May/2023 15:44:35] \"\u001b[33mGET /static/css/bootstrap.min.css.map HTTP/1.1\u001b[0m\" 404 -\n",
            "127.0.0.1 - - [28/May/2023 15:44:47] \"GET /chatbot HTTP/1.1\" 200 -\n",
            "127.0.0.1 - - [28/May/2023 15:44:48] \"\u001b[36mGET /static/styles/style.css HTTP/1.1\u001b[0m\" 304 -\n",
            "^C\n"
          ]
        }
      ],
      "source": [
        "# Jalankan Aplikasi (Kode Python \"app.py\")\n",
        "!python3 app.py"
      ]
    }
  ],
  "metadata": {
    "colab": {
      "provenance": []
    },
    "kernelspec": {
      "display_name": "Python 3",
      "name": "python3"
    },
    "language_info": {
      "name": "python"
    }
  },
  "nbformat": 4,
  "nbformat_minor": 0
}